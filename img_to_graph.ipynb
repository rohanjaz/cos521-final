{
 "cells": [
  {
   "cell_type": "code",
   "execution_count": 118,
   "id": "01bf814e",
   "metadata": {},
   "outputs": [],
   "source": [
    "import numpy as np\n",
    "import matplotlib.pyplot as plt\n",
    "from PIL import Image, ImageOps"
   ]
  },
  {
   "cell_type": "code",
   "execution_count": 122,
   "id": "911c5c23",
   "metadata": {},
   "outputs": [
    {
     "data": {
      "text/plain": [
       "<matplotlib.image.AxesImage at 0x7f81f81865b0>"
      ]
     },
     "execution_count": 122,
     "metadata": {},
     "output_type": "execute_result"
    },
    {
     "data": {
      "image/png": "[encoded data removed]",
      "text/plain": [
       "<Figure size 432x288 with 1 Axes>"
      ]
     },
     "metadata": {
      "needs_background": "light"
     },
     "output_type": "display_data"
    }
   ],
   "source": [
    "img = Image.fromarray(np.array(Image.open('desert.jpg')))\n",
    "img = img.resize((100,100))\n",
    "img_grayscale = np.asarray(ImageOps.grayscale(img))\n",
    "img_grayscale = img_grayscale[30:50,25:45]\n",
    "[height, width] = img_grayscale.shape\n",
    "plt.imshow(img_grayscale,  cmap='gray', vmin=0, vmax=255)"
   ]
  },
  {
   "cell_type": "code",
   "execution_count": 32,
   "id": "3f717b3a",
   "metadata": {},
   "outputs": [
    {
     "data": {
      "text/plain": [
       "(400, 400)"
      ]
     },
     "execution_count": 32,
     "metadata": {},
     "output_type": "execute_result"
    }
   ],
   "source": [
    "dim = img_grayscale.shape[0] * img_grayscale.shape[1]\n",
    "weights = np.zeros([dim, dim])\n",
    "weights.shape"
   ]
  },
  {
   "cell_type": "code",
   "execution_count": 33,
   "id": "d6e8addd",
   "metadata": {
    "scrolled": false
   },
   "outputs": [
    {
     "name": "stderr",
     "output_type": "stream",
     "text": [
      "/var/folders/y6/dcvw5tyn609_4w5cdgrwktw00000gp/T/ipykernel_66085/2112187857.py:16: RuntimeWarning: overflow encountered in ulong_scalars\n",
      "  intensity_exp = ((img_grayscale[j_row, j_col] - img_grayscale[i_row, i_col])**2)/sigma_squared_i\n"
     ]
    }
   ],
   "source": [
    "DIST_PARAM = 10\n",
    "sigma_squared_i = 400\n",
    "sigma_squared_x = 50\n",
    "\n",
    "for i in range(weights.shape[0]):\n",
    "    i_row, i_col = i // img_grayscale.shape[0], i % img_grayscale.shape[1]\n",
    "    for row_offset in range(-min(DIST_PARAM, i_row), min(DIST_PARAM + 1, img_grayscale.shape[0] - i_row)):\n",
    "        j_row = i_row + row_offset\n",
    "        for col_offset in range(-min(DIST_PARAM, i_col), min(DIST_PARAM + 1, img_grayscale.shape[1] - i_col)):\n",
    "            j_col = i_col + col_offset\n",
    "            dist = abs(row_offset) + abs(col_offset)\n",
    "            if dist > 2*DIST_PARAM:\n",
    "                print(\"ERROR\")\n",
    "                print(dist)\n",
    "            j = j_row * img_grayscale.shape[1] + j_col\n",
    "            intensity_exp = ((img_grayscale[j_row, j_col] - img_grayscale[i_row, i_col])**2)/sigma_squared_i\n",
    "            distance_exp = dist**2/sigma_squared_x\n",
    "            weights[i][j] = np.exp(-intensity_exp - distance_exp)"
   ]
  },
  {
   "cell_type": "code",
   "execution_count": 34,
   "id": "f7f8b4c8",
   "metadata": {},
   "outputs": [
    {
     "data": {
      "text/plain": [
       "(400, 400)"
      ]
     },
     "execution_count": 34,
     "metadata": {},
     "output_type": "execute_result"
    }
   ],
   "source": [
    "weights.shape"
   ]
  },
  {
   "cell_type": "code",
   "execution_count": 35,
   "id": "ecc21a33",
   "metadata": {},
   "outputs": [
    {
     "name": "stdout",
     "output_type": "stream",
     "text": [
      "===============================================================================\n",
      "                                     CVXPY                                     \n",
      "                                     v1.2.2                                    \n",
      "===============================================================================\n",
      "(CVXPY) Dec 10 06:18:14 PM: Your problem has 160000 variables, 2 constraints, and 0 parameters.\n",
      "(CVXPY) Dec 10 06:18:14 PM: It is compliant with the following grammars: DCP, DQCP\n",
      "(CVXPY) Dec 10 06:18:14 PM: (If you need to solve this problem multiple times, but with different data, consider using parameters.)\n",
      "(CVXPY) Dec 10 06:18:14 PM: CVXPY will first compile your problem; then, it will invoke a numerical solver to obtain a solution.\n",
      "-------------------------------------------------------------------------------\n",
      "                                  Compilation                                  \n",
      "-------------------------------------------------------------------------------\n",
      "(CVXPY) Dec 10 06:18:14 PM: Compiling problem (target solver=SCS).\n",
      "(CVXPY) Dec 10 06:18:14 PM: Reduction chain: FlipObjective -> Dcp2Cone -> CvxAttr2Constr -> ConeMatrixStuffing -> SCS\n",
      "(CVXPY) Dec 10 06:18:14 PM: Applying reduction FlipObjective\n",
      "(CVXPY) Dec 10 06:18:14 PM: Applying reduction Dcp2Cone\n",
      "(CVXPY) Dec 10 06:18:14 PM: Applying reduction CvxAttr2Constr\n",
      "(CVXPY) Dec 10 06:18:15 PM: Applying reduction ConeMatrixStuffing\n",
      "(CVXPY) Dec 10 06:18:15 PM: Applying reduction SCS\n",
      "(CVXPY) Dec 10 06:18:15 PM: Finished problem compilation (took 7.600e-01 seconds).\n",
      "-------------------------------------------------------------------------------\n",
      "                                Numerical solver                               \n",
      "-------------------------------------------------------------------------------\n",
      "(CVXPY) Dec 10 06:18:15 PM: Invoking solver SCS  to obtain a solution.\n",
      "------------------------------------------------------------------\n",
      "\t       SCS v3.2.2 - Splitting Conic Solver\n",
      "\t(c) Brendan O'Donoghue, Stanford University, 2012\n",
      "------------------------------------------------------------------\n",
      "problem:  variables n: 80200, constraints m: 80601\n",
      "cones: \t  z: primal zero / dual free vars: 400\n",
      "\t  l: linear vars: 1\n",
      "\t  s: psd vars: 80200, ssize: 1\n",
      "settings: eps_abs: 1.0e-05, eps_rel: 1.0e-05, eps_infeas: 1.0e-07\n",
      "\t  alpha: 1.50, scale: 1.00e-01, adaptive_scale: 1\n",
      "\t  max_iters: 100000, normalize: 1, rho_x: 1.00e-06\n",
      "\t  acceleration_lookback: 10, acceleration_interval: 10\n",
      "lin-sys:  sparse-direct-amd-qdldl\n",
      "\t  nnz(A): 160800, nnz(P): 0\n",
      "------------------------------------------------------------------\n",
      " iter | pri res | dua res |   gap   |   obj   |  scale  | time (s)\n",
      "------------------------------------------------------------------\n",
      "     0| 2.42e+04  1.02e+00  2.53e+04 -1.40e+04  1.00e-01  2.56e-01 \n",
      "   250| 7.28e-01  2.69e-04  4.23e+02 -5.16e+03  3.40e-03  2.91e+01 \n",
      "   500| 9.25e-02  2.36e-06  9.13e+00 -4.95e+03  3.40e-03  5.83e+01 \n",
      "   750| 1.29e-02  2.64e-07  2.65e-01 -4.95e+03  3.40e-03  8.83e+01 \n",
      "  1000| 1.10e-03  2.79e-08  7.58e-02 -4.95e+03  3.40e-03  1.19e+02 \n",
      "  1100| 3.55e-04  3.80e-09  1.08e-02 -4.95e+03  3.40e-03  1.32e+02 \n",
      "------------------------------------------------------------------\n",
      "status:  solved\n",
      "timings: total: 1.32e+02s = setup: 1.18e-01s + solve: 1.32e+02s\n",
      "\t lin-sys: 3.02e+00s, cones: 1.27e+02s, accel: 4.29e-01s\n",
      "------------------------------------------------------------------\n",
      "objective = -4951.562496\n",
      "------------------------------------------------------------------\n",
      "-------------------------------------------------------------------------------\n",
      "                                    Summary                                    \n",
      "-------------------------------------------------------------------------------\n",
      "(CVXPY) Dec 10 06:20:27 PM: Problem status: optimal\n",
      "(CVXPY) Dec 10 06:20:27 PM: Optimal value: 4.952e+03\n",
      "(CVXPY) Dec 10 06:20:27 PM: Compilation took 7.600e-01 seconds\n",
      "(CVXPY) Dec 10 06:20:27 PM: Solver (including time spent in interface) took 1.319e+02 seconds\n"
     ]
    },
    {
     "data": {
      "text/plain": [
       "4951.567909425034"
      ]
     },
     "execution_count": 35,
     "metadata": {},
     "output_type": "execute_result"
    }
   ],
   "source": [
    "import cvxpy as cvx\n",
    "\n",
    "X = cvx.Variable((dim, dim), PSD=True)\n",
    "obj = cvx.sum(cvx.multiply(weights, X))\n",
    "constr = [cvx.diag(X) == 1, cvx.sum(X) <= 0.15*dim*dim]\n",
    "problem = cvx.Problem(cvx.Maximize(obj), constraints=constr)\n",
    "problem.solve(solver=cvx.SCS, verbose=True)"
   ]
  },
  {
   "cell_type": "code",
   "execution_count": 185,
   "metadata": {},
   "outputs": [
    {
     "data": {
      "text/plain": [
       "<matplotlib.image.AxesImage at 0x7f81ff4bcaf0>"
      ]
     },
     "execution_count": 185,
     "metadata": {},
     "output_type": "execute_result"
    },
    {
     "data": {
      "image/png": "[encoded data removed]",
      "text/plain": [
       "<Figure size 432x288 with 1 Axes>"
      ]
     },
     "metadata": {
      "needs_background": "light"
     },
     "output_type": "display_data"
    }
   ],
   "source": [
    "import math\n",
    "\n",
    "# recover the original vectors\n",
    "sol = X.value\n",
    "S, eig, S_T = np.linalg.svd(X.value)\n",
    "V = np.transpose(S * np.sqrt(eig))  \n",
    "\n",
    "# do the random hyperplane rounding\n",
    "random_hyperplane_rounding = np.random.randn(dim)\n",
    "# rearrange the cut to form an image again\n",
    "cut = np.sign(random_hyperplane_rounding @ V).reshape(int(math.sqrt(dim)), int(math.sqrt(dim)), order = 'C')\n",
    "#display the image\n",
    "plt.imshow((cut+1)*125)"
   ]
  }
 ],
 "metadata": {
  "kernelspec": {
   "display_name": "Python 3.9.7 64-bit",
   "language": "python",
   "name": "python3"
  },
  "language_info": {
   "codemirror_mode": {
    "name": "ipython",
    "version": 3
   },
   "file_extension": ".py",
   "mimetype": "text/x-python",
   "name": "python",
   "nbconvert_exporter": "python",
   "pygments_lexer": "ipython3",
   "version": "3.9.7"
  },
  "vscode": {
   "interpreter": {
    "hash": "397704579725e15f5c7cb49fe5f0341eb7531c82d19f2c29d197e8b64ab5776b"
   }
  }
 },
 "nbformat": 4,
 "nbformat_minor": 5
}
