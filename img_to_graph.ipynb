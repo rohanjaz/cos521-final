{
 "cells": [
  {
   "cell_type": "code",
   "execution_count": 3,
   "id": "01bf814e",
   "metadata": {},
   "outputs": [],
   "source": [
    "import numpy as np\n",
    "import matplotlib.pyplot as plt\n",
    "from PIL import Image, ImageOps"
   ]
  },
  {
   "cell_type": "code",
   "execution_count": 101,
   "id": "911c5c23",
   "metadata": {},
   "outputs": [
    {
     "data": {
      "text/plain": [
       "<matplotlib.image.AxesImage at 0x7fc6a8e78ca0>"
      ]
     },
     "execution_count": 101,
     "metadata": {},
     "output_type": "execute_result"
    },
    {
     "data": {
      "image/png": "[encoded data removed]",
      "text/plain": [
       "<Figure size 432x288 with 1 Axes>"
      ]
     },
     "metadata": {
      "needs_background": "light"
     },
     "output_type": "display_data"
    }
   ],
   "source": [
    "img = Image.fromarray(np.asarray(Image.open('desert.jpg'))[250:750,150:600])\n",
    "img = img.resize((20,20), resample = Image.NEAREST)\n",
    "img = np.asarray(img)\n",
    "#img = img[5:25,5:25,...]\n",
    "plt.imshow(img, vmin=0, vmax=255)"
   ]
  },
  {
   "cell_type": "code",
   "execution_count": 138,
   "id": "3f717b3a",
   "metadata": {},
   "outputs": [
    {
     "data": {
      "text/plain": [
       "(400, 400)"
      ]
     },
     "execution_count": 138,
     "metadata": {},
     "output_type": "execute_result"
    }
   ],
   "source": [
    "import scipy\n",
    "dim = img.shape[0] * img.shape[1]\n",
    "weights = np.zeros((dim, dim))\n",
    "weights.shape"
   ]
  },
  {
   "cell_type": "code",
   "execution_count": 139,
   "id": "d6e8addd",
   "metadata": {
    "scrolled": false
   },
   "outputs": [],
   "source": [
    "DIST_PARAM = 10\n",
    "sigma_squared_i = 100\n",
    "sigma_squared_x = 50\n",
    "\n",
    "for i in range(weights.shape[0]):\n",
    "    i_row, i_col = i // img.shape[0], i % img.shape[1]\n",
    "    for row_offset in range(-min(DIST_PARAM, i_row), min(DIST_PARAM + 1, img.shape[0] - i_row)):\n",
    "        j_row = i_row + row_offset\n",
    "        for col_offset in range(-min(DIST_PARAM, i_col), min(DIST_PARAM + 1, img.shape[1] - i_col)):\n",
    "            j_col = i_col + col_offset\n",
    "            dist = abs(row_offset) + abs(col_offset)\n",
    "            if dist > 2*DIST_PARAM:\n",
    "                print(\"ERROR\")\n",
    "                print(dist)\n",
    "            j = j_row * img.shape[1] + j_col\n",
    "            intensity_exp = (np.linalg.norm(np.array(img[j_row, j_col] - img[i_row, i_col]))**2)/sigma_squared_i\n",
    "            distance_exp = dist**2/sigma_squared_x\n",
    "            weights[i,j] = np.exp(-intensity_exp - distance_exp)"
   ]
  },
  {
   "cell_type": "code",
   "execution_count": 104,
   "id": "f7f8b4c8",
   "metadata": {},
   "outputs": [
    {
     "data": {
      "text/plain": [
       "(400, 400)"
      ]
     },
     "execution_count": 104,
     "metadata": {},
     "output_type": "execute_result"
    }
   ],
   "source": [
    "weights.shape"
   ]
  },
  {
   "cell_type": "code",
   "execution_count": 105,
   "id": "ecc21a33",
   "metadata": {},
   "outputs": [
    {
     "name": "stdout",
     "output_type": "stream",
     "text": [
      "===============================================================================\n",
      "                                     CVXPY                                     \n",
      "                                     v1.2.2                                    \n",
      "===============================================================================\n",
      "(CVXPY) Dec 11 08:35:30 PM: Your problem has 160000 variables, 2 constraints, and 0 parameters.\n",
      "(CVXPY) Dec 11 08:35:30 PM: It is compliant with the following grammars: DCP, DQCP\n",
      "(CVXPY) Dec 11 08:35:30 PM: (If you need to solve this problem multiple times, but with different data, consider using parameters.)\n",
      "(CVXPY) Dec 11 08:35:30 PM: CVXPY will first compile your problem; then, it will invoke a numerical solver to obtain a solution.\n",
      "-------------------------------------------------------------------------------\n",
      "                                  Compilation                                  \n",
      "-------------------------------------------------------------------------------\n",
      "(CVXPY) Dec 11 08:35:30 PM: Compiling problem (target solver=SCS).\n",
      "(CVXPY) Dec 11 08:35:30 PM: Reduction chain: FlipObjective -> Dcp2Cone -> CvxAttr2Constr -> ConeMatrixStuffing -> SCS\n",
      "(CVXPY) Dec 11 08:35:30 PM: Applying reduction FlipObjective\n",
      "(CVXPY) Dec 11 08:35:30 PM: Applying reduction Dcp2Cone\n",
      "(CVXPY) Dec 11 08:35:30 PM: Applying reduction CvxAttr2Constr\n",
      "(CVXPY) Dec 11 08:35:31 PM: Applying reduction ConeMatrixStuffing\n",
      "(CVXPY) Dec 11 08:35:34 PM: Applying reduction SCS\n",
      "(CVXPY) Dec 11 08:35:34 PM: Finished problem compilation (took 4.211e+00 seconds).\n",
      "-------------------------------------------------------------------------------\n",
      "                                Numerical solver                               \n",
      "-------------------------------------------------------------------------------\n",
      "(CVXPY) Dec 11 08:35:34 PM: Invoking solver SCS  to obtain a solution.\n",
      "------------------------------------------------------------------\n",
      "\t       SCS v3.2.2 - Splitting Conic Solver\n",
      "\t(c) Brendan O'Donoghue, Stanford University, 2012\n",
      "------------------------------------------------------------------\n",
      "problem:  variables n: 80200, constraints m: 80601\n",
      "cones: \t  z: primal zero / dual free vars: 400\n",
      "\t  l: linear vars: 1\n",
      "\t  s: psd vars: 80200, ssize: 1\n",
      "settings: eps_abs: 1.0e-05, eps_rel: 1.0e-05, eps_infeas: 1.0e-07\n",
      "\t  alpha: 1.50, scale: 1.00e-01, adaptive_scale: 1\n",
      "\t  max_iters: 2500, normalize: 1, rho_x: 1.00e-06\n",
      "\t  acceleration_lookback: 10, acceleration_interval: 10\n",
      "lin-sys:  sparse-direct-amd-qdldl\n",
      "\t  nnz(A): 160800, nnz(P): 0\n",
      "------------------------------------------------------------------\n",
      " iter | pri res | dua res |   gap   |   obj   |  scale  | time (s)\n",
      "------------------------------------------------------------------\n",
      "     0| 2.40e+04  1.48e+00  1.39e+04 -7.66e+03  1.00e-01  2.62e-01 \n",
      "   250| 6.24e-01  9.09e-04  5.84e+02 -2.97e+03  2.53e-03  3.41e+01 \n",
      "   500| 5.23e-01  3.74e-05  1.02e+01 -2.67e+03  7.26e-04  6.90e+01 \n",
      "   750| 5.33e-02  7.74e-06  1.52e+00 -2.68e+03  7.26e-04  1.02e+02 \n",
      "   900| 3.42e-02  1.96e-06  2.35e-02 -2.68e+03  7.26e-04  1.28e+02 \n",
      "------------------------------------------------------------------\n",
      "status:  solved\n",
      "timings: total: 1.28e+02s = setup: 1.18e-01s + solve: 1.28e+02s\n",
      "\t lin-sys: 3.54e+00s, cones: 1.22e+02s, accel: 2.95e-01s\n",
      "------------------------------------------------------------------\n",
      "objective = -2677.926431\n",
      "------------------------------------------------------------------\n",
      "-------------------------------------------------------------------------------\n",
      "                                    Summary                                    \n",
      "-------------------------------------------------------------------------------\n",
      "(CVXPY) Dec 11 08:37:42 PM: Problem status: optimal\n",
      "(CVXPY) Dec 11 08:37:42 PM: Optimal value: 2.678e+03\n",
      "(CVXPY) Dec 11 08:37:42 PM: Compilation took 4.211e+00 seconds\n",
      "(CVXPY) Dec 11 08:37:42 PM: Solver (including time spent in interface) took 1.277e+02 seconds\n"
     ]
    },
    {
     "data": {
      "text/plain": [
       "2677.9146993054655"
      ]
     },
     "execution_count": 105,
     "metadata": {},
     "output_type": "execute_result"
    }
   ],
   "source": [
    "import cvxpy as cvx\n",
    "\n",
    "X = cvx.Variable((dim, dim), PSD=True)\n",
    "obj = cvx.trace(weights @ X)\n",
    "constr = [cvx.diag(X) == 1, cvx.sum(X) <= 0.15*dim*dim]\n",
    "problem = cvx.Problem(cvx.Maximize(obj), constraints=constr)\n",
    "problem.solve(solver=cvx.SCS, verbose=True, max_iters = 2500)"
   ]
  },
  {
   "cell_type": "code",
   "execution_count": 116,
   "id": "f2374e2d",
   "metadata": {},
   "outputs": [
    {
     "data": {
      "text/plain": [
       "<matplotlib.image.AxesImage at 0x7fc6ab6a16d0>"
      ]
     },
     "execution_count": 116,
     "metadata": {},
     "output_type": "execute_result"
    },
    {
     "data": {
      "image/png": "[encoded data removed]",
      "text/plain": [
       "<Figure size 432x288 with 1 Axes>"
      ]
     },
     "metadata": {
      "needs_background": "light"
     },
     "output_type": "display_data"
    }
   ],
   "source": [
    "import math\n",
    "\n",
    "# recover the original vectors\n",
    "sol = X.value\n",
    "S, eig, S_T = np.linalg.svd(X.value)\n",
    "V = np.transpose(S * np.sqrt(eig))  \n",
    "\n",
    "# do the random hyperplane rounding\n",
    "random_hyperplane_rounding = np.random.randn(dim)\n",
    "# rearrange the cut to form an image again\n",
    "cut = np.sign(random_hyperplane_rounding @ V).reshape(int(math.sqrt(dim)), int(math.sqrt(dim)), order = 'C')\n",
    "#display the image\n",
    "plt.imshow((cut+1)*125)"
   ]
  },
  {
   "cell_type": "code",
   "execution_count": 124,
   "id": "ec6bc274",
   "metadata": {},
   "outputs": [
    {
     "data": {
      "text/plain": [
       "<matplotlib.image.AxesImage at 0x7fc6ac145e50>"
      ]
     },
     "execution_count": 124,
     "metadata": {},
     "output_type": "execute_result"
    },
    {
     "data": {
      "image/png": "[encoded data removed]",
      "text/plain": [
       "<Figure size 432x288 with 1 Axes>"
      ]
     },
     "metadata": {
      "needs_background": "light"
     },
     "output_type": "display_data"
    }
   ],
   "source": [
    "num_cuts = 3\n",
    "max_dot_product_rounding = np.random.randn(num_cuts, dim)\n",
    "angles = np.abs(max_dot_product_rounding @ V)\n",
    "partitions = np.argmax(angles, axis = 0).reshape(int(math.sqrt(dim)), int(math.sqrt(dim)), order = 'C')\n",
    "plt.imshow(partitions*125)"
   ]
  },
  {
   "cell_type": "code",
   "execution_count": 140,
   "id": "7bbe5c18",
   "metadata": {},
   "outputs": [
    {
     "name": "stdout",
     "output_type": "stream",
     "text": [
      "2677.8829600855292\n",
      "1.9581802075495664e-98\n"
     ]
    }
   ],
   "source": [
    "weights = np.array(weights)\n",
    "def select_random_edge(weights):\n",
    "    weights_prob = weights/np.sum(weights)\n",
    "    val = np.random.choice(weights.flatten(), p = weights_prob.flatten())\n",
    "    result = np.where(weights == val)\n",
    "    ls = list(zip(result[0], result[1]))\n",
    "    coord = ls[np.random.randint(len(ls))]\n",
    "    return coord\n",
    "\n",
    "def contract_edge(weights, p1, p2):\n",
    "    \n",
    "    new_weights = weights\n",
    "    \n",
    "    if p1 == p2:\n",
    "        print(\"ERROR\")\n",
    "        return weights\n",
    "    \n",
    "    #shift weight\n",
    "    for i in range(len(weights)):\n",
    "        #move weight ending at p2\n",
    "        new_weights[i][p1] += weights[i][p2]\n",
    "        new_weights[i][p2] = 0\n",
    "\n",
    "        #move weight starting at p2\n",
    "        new_weights[p1][i] += weights[p2][i]\n",
    "        new_weights[p2][i] = 0\n",
    "    \n",
    "    #weights = np.delete(weights, p2, axis=0)\n",
    "    #weights = np.delete(weights, p2, axis=1)\n",
    "    \n",
    "    #remove self loops\n",
    "    for i in range(len(weights)):\n",
    "        new_weights[i][i] = 0\n",
    "    \n",
    "    return new_weights\n",
    "    \n",
    "\n",
    "print(np.sum(weights))\n",
    "k = 2\n",
    "vertices = len(weights)\n",
    "groups = np.arange(0,len(weights),1)\n",
    "\n",
    "num_steps = 0\n",
    "\n",
    "while num_steps < vertices - k:\n",
    "    i, j = select_random_edge(weights)\n",
    "    groups[j] = i\n",
    "    weights = contract_edge(weights, i, j)\n",
    "    num_steps += 1\n",
    "\n",
    "print(np.sum(weights))"
   ]
  },
  {
   "cell_type": "code",
   "execution_count": 142,
   "id": "179a6431",
   "metadata": {},
   "outputs": [
    {
     "name": "stdout",
     "output_type": "stream",
     "text": [
      "[106. 106. 106. 106. 106. 106. 106. 106. 106. 106. 106. 106. 106. 106.\n",
      " 106. 106. 106. 106. 106. 106. 106. 106. 106. 106. 106. 106. 106. 106.\n",
      " 106. 106. 106. 106. 106. 106. 106. 106. 106. 106. 106. 106. 106. 106.\n",
      " 106. 106. 106. 106. 106. 106. 106. 106. 106. 106. 106. 106. 106. 106.\n",
      " 106. 106. 106. 106. 106. 106. 106. 106. 106. 106. 106. 106. 106. 106.\n",
      " 106. 106. 106. 106. 106. 106. 106. 106. 106. 106. 106. 106. 106. 106.\n",
      " 106. 106. 106. 106. 106. 106. 106. 106. 106. 106. 106. 106. 106. 106.\n",
      " 106. 106. 376. 376. 376. 376. 376. 106. 106. 106. 106. 106. 106. 106.\n",
      " 376. 376. 376. 376. 376. 376. 376. 376. 376. 376. 376. 376. 376. 376.\n",
      " 376. 376. 376. 376. 376. 376. 376. 376. 376. 376. 376. 376. 376. 376.\n",
      " 376. 376. 376. 376. 376. 376. 376. 376. 376. 376. 376. 376. 376. 376.\n",
      " 376. 376. 376. 376. 376. 376. 376. 376. 376. 376. 376. 376. 376. 376.\n",
      " 376. 376. 376. 376. 376. 376. 376. 376. 376. 376. 376. 376. 376. 376.\n",
      " 376. 376. 376. 376. 376. 376. 376. 376. 376. 376. 376. 376. 376. 376.\n",
      " 376. 376. 376. 376. 376. 376. 376. 376. 376. 376. 376. 376. 376. 376.\n",
      " 376. 376. 376. 376. 376. 376. 376. 376. 376. 376. 376. 376. 376. 376.\n",
      " 376. 376. 376. 376. 376. 376. 376. 376. 376. 376. 376. 376. 376. 376.\n",
      " 376. 376. 376. 376. 376. 376. 376. 376. 376. 376. 376. 376. 376. 376.\n",
      " 376. 376. 376. 376. 376. 376. 376. 376. 376. 376. 376. 376. 376. 376.\n",
      " 376. 376. 376. 376. 376. 376. 376. 376. 376. 376. 376. 376. 376. 376.\n",
      " 376. 376. 376. 376. 376. 376. 376. 376. 376. 376. 376. 376. 376. 376.\n",
      " 376. 376. 376. 376. 376. 376. 376. 376. 376. 376. 376. 376. 376. 376.\n",
      " 376. 376. 376. 376. 376. 376. 376. 376. 376. 376. 376. 376. 376. 376.\n",
      " 376. 376. 376. 376. 376. 376. 376. 376. 376. 376. 376. 376. 376. 376.\n",
      " 376. 376. 376. 376. 376. 376. 376. 376. 376. 376. 376. 376. 376. 376.\n",
      " 376. 376. 376. 376. 376. 376. 376. 376. 376. 376. 376. 376. 376. 376.\n",
      " 376. 376. 376. 376. 376. 376. 376. 376. 376. 376. 376. 376. 376. 376.\n",
      " 376. 376. 376. 376. 376. 376. 376. 376. 376. 376. 376. 376. 376. 376.\n",
      " 376. 376. 376. 376. 376. 376. 376. 376.]\n",
      "106\n",
      "376\n"
     ]
    }
   ],
   "source": [
    "def set_to_groups(groups):\n",
    "    groups_temp = np.zeros(len(groups))\n",
    "    for i in range(len(groups)):\n",
    "        ind = i\n",
    "        val = groups[ind]\n",
    "        while ind != val:\n",
    "            ind = val\n",
    "            val = groups[ind]\n",
    "        groups_temp[i] = val\n",
    "    return groups_temp\n",
    "\n",
    "res = set_to_groups(groups)\n",
    "print(res)\n",
    "\n",
    "for i in range(len(groups)):\n",
    "    if i == groups[i]:\n",
    "        print(i)"
   ]
  }
 ],
 "metadata": {
  "kernelspec": {
   "display_name": "Python 3 (ipykernel)",
   "language": "python",
   "name": "python3"
  },
  "language_info": {
   "codemirror_mode": {
    "name": "ipython",
    "version": 3
   },
   "file_extension": ".py",
   "mimetype": "text/x-python",
   "name": "python",
   "nbconvert_exporter": "python",
   "pygments_lexer": "ipython3",
   "version": "3.9.12"
  },
  "vscode": {
   "interpreter": {
    "hash": "397704579725e15f5c7cb49fe5f0341eb7531c82d19f2c29d197e8b64ab5776b"
   }
  }
 },
 "nbformat": 4,
 "nbformat_minor": 5
}
