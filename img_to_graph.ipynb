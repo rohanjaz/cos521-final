{
 "cells": [
  {
   "cell_type": "code",
   "execution_count": 1,
   "id": "01bf814e",
   "metadata": {},
   "outputs": [],
   "source": [
    "import numpy as np\n",
    "import matplotlib.pyplot as plt\n",
    "from PIL import Image, ImageOps"
   ]
  },
  {
   "cell_type": "code",
   "execution_count": null,
   "id": "911c5c23",
   "metadata": {},
   "outputs": [
    {
     "data": {
      "text/plain": [
       "<matplotlib.image.AxesImage at 0x7fedc60b2a60>"
      ]
     },
     "execution_count": 2,
     "metadata": {},
     "output_type": "execute_result"
    },
    {
     "data": {
      "image/png": "[encoded data removed]",
      "text/plain": [
       "<Figure size 432x288 with 1 Axes>"
      ]
     },
     "metadata": {
      "needs_background": "light"
     },
     "output_type": "display_data"
    }
   ],
   "source": [
    "img = Image.fromarray(np.asarray(Image.open('mariomushroom.jpg'))[250:750,150:600])\n",
    "img = img.resize((30,30), resample = Image.NEAREST)\n",
    "img = np.asarray(img)\n",
    "img = img[5:25,5:25,...]\n",
    "plt.imshow(img, vmin=0, vmax=255)"
   ]
  },
  {
   "cell_type": "code",
   "execution_count": 3,
   "id": "3f717b3a",
   "metadata": {},
   "outputs": [
    {
     "data": {
      "text/plain": [
       "(900, 900)"
      ]
     },
     "execution_count": 3,
     "metadata": {},
     "output_type": "execute_result"
    }
   ],
   "source": [
    "import scipy\n",
    "dim = img.shape[0] * img.shape[1]\n",
    "weights = np.zeros((dim, dim))\n",
    "weights.shape"
   ]
  },
  {
   "cell_type": "code",
   "execution_count": 4,
   "id": "d6e8addd",
   "metadata": {
    "scrolled": false
   },
   "outputs": [],
   "source": [
    "DIST_PARAM = 5\n",
    "sigma_squared_i = 400\n",
    "sigma_squared_x = 50\n",
    "\n",
    "for i in range(weights.shape[0]):\n",
    "    i_row, i_col = i // img.shape[0], i % img.shape[1]\n",
    "    for row_offset in range(-min(DIST_PARAM, i_row), min(DIST_PARAM + 1, img.shape[0] - i_row)):\n",
    "        j_row = i_row + row_offset\n",
    "        for col_offset in range(-min(DIST_PARAM, i_col), min(DIST_PARAM + 1, img.shape[1] - i_col)):\n",
    "            j_col = i_col + col_offset\n",
    "            dist = abs(row_offset) + abs(col_offset)\n",
    "            if dist > 2*DIST_PARAM:\n",
    "                print(\"ERROR\")\n",
    "                print(dist)\n",
    "            j = j_row * img.shape[1] + j_col\n",
    "            intensity_exp = (np.linalg.norm(np.array(img[j_row, j_col] - img[i_row, i_col]))**2)/sigma_squared_i\n",
    "            distance_exp = dist**2/sigma_squared_x\n",
    "            weights[i,j] = np.exp(-intensity_exp - distance_exp)"
   ]
  },
  {
   "cell_type": "code",
   "execution_count": 5,
   "id": "f7f8b4c8",
   "metadata": {},
   "outputs": [
    {
     "data": {
      "text/plain": [
       "(900, 900)"
      ]
     },
     "execution_count": 5,
     "metadata": {},
     "output_type": "execute_result"
    }
   ],
   "source": [
    "weights.shape"
   ]
  },
  {
   "cell_type": "code",
   "execution_count": 6,
   "id": "ecc21a33",
   "metadata": {},
   "outputs": [
    {
     "name": "stdout",
     "output_type": "stream",
     "text": [
      "===============================================================================\n",
      "                                     CVXPY                                     \n",
      "                                     v1.2.2                                    \n",
      "===============================================================================\n",
      "(CVXPY) Dec 11 08:02:29 PM: Your problem has 810000 variables, 2 constraints, and 0 parameters.\n",
      "(CVXPY) Dec 11 08:02:29 PM: It is compliant with the following grammars: DCP, DQCP\n",
      "(CVXPY) Dec 11 08:02:29 PM: (If you need to solve this problem multiple times, but with different data, consider using parameters.)\n",
      "(CVXPY) Dec 11 08:02:29 PM: CVXPY will first compile your problem; then, it will invoke a numerical solver to obtain a solution.\n",
      "-------------------------------------------------------------------------------\n",
      "                                  Compilation                                  \n",
      "-------------------------------------------------------------------------------\n",
      "(CVXPY) Dec 11 08:02:29 PM: Compiling problem (target solver=SCS).\n",
      "(CVXPY) Dec 11 08:02:29 PM: Reduction chain: FlipObjective -> Dcp2Cone -> CvxAttr2Constr -> ConeMatrixStuffing -> SCS\n",
      "(CVXPY) Dec 11 08:02:29 PM: Applying reduction FlipObjective\n",
      "(CVXPY) Dec 11 08:02:29 PM: Applying reduction Dcp2Cone\n",
      "(CVXPY) Dec 11 08:02:29 PM: Applying reduction CvxAttr2Constr\n",
      "(CVXPY) Dec 11 08:02:32 PM: Applying reduction ConeMatrixStuffing\n",
      "(CVXPY) Dec 11 08:02:41 PM: Applying reduction SCS\n",
      "(CVXPY) Dec 11 08:02:42 PM: Finished problem compilation (took 1.291e+01 seconds).\n",
      "-------------------------------------------------------------------------------\n",
      "                                Numerical solver                               \n",
      "-------------------------------------------------------------------------------\n",
      "(CVXPY) Dec 11 08:02:42 PM: Invoking solver SCS  to obtain a solution.\n",
      "------------------------------------------------------------------\n",
      "\t       SCS v3.2.2 - Splitting Conic Solver\n",
      "\t(c) Brendan O'Donoghue, Stanford University, 2012\n",
      "------------------------------------------------------------------\n",
      "problem:  variables n: 405450, constraints m: 406351\n",
      "cones: \t  z: primal zero / dual free vars: 900\n",
      "\t  l: linear vars: 1\n",
      "\t  s: psd vars: 405450, ssize: 1\n",
      "settings: eps_abs: 1.0e-05, eps_rel: 1.0e-05, eps_infeas: 1.0e-07\n",
      "\t  alpha: 1.50, scale: 1.00e-01, adaptive_scale: 1\n",
      "\t  max_iters: 2500, normalize: 1, rho_x: 1.00e-06\n",
      "\t  acceleration_lookback: 10, acceleration_interval: 10\n",
      "lin-sys:  sparse-direct-amd-qdldl\n",
      "\t  nnz(A): 811800, nnz(P): 0\n",
      "------------------------------------------------------------------\n",
      " iter | pri res | dua res |   gap   |   obj   |  scale  | time (s)\n",
      "------------------------------------------------------------------\n",
      "     0| 1.22e+05  2.26e+00  2.95e+05 -1.54e+05  1.00e-01  2.25e+00 \n",
      "   250| 9.99e-01  1.82e-04  2.26e+04 -1.87e+04  5.08e-04  3.74e+02 \n"
     ]
    }
   ],
   "source": [
    "import cvxpy as cvx\n",
    "\n",
    "X = cvx.Variable((dim, dim), PSD=True)\n",
    "obj = cvx.trace(weights @ X)\n",
    "constr = [cvx.diag(X) == 1, cvx.sum(X) <= 0.15*dim*dim]\n",
    "problem = cvx.Problem(cvx.Maximize(obj), constraints=constr)\n",
    "problem.solve(solver=cvx.SCS, verbose=True, max_iters = 2500)"
   ]
  },
  {
   "cell_type": "code",
   "execution_count": null,
   "id": "f2374e2d",
   "metadata": {},
   "outputs": [
    {
     "data": {
      "text/plain": [
       "<matplotlib.image.AxesImage at 0x7f815f61a3a0>"
      ]
     },
     "execution_count": 469,
     "metadata": {},
     "output_type": "execute_result"
    },
    {
     "data": {
      "image/png": "[encoded data removed]",
      "text/plain": [
       "<Figure size 432x288 with 1 Axes>"
      ]
     },
     "metadata": {
      "needs_background": "light"
     },
     "output_type": "display_data"
    }
   ],
   "source": [
    "import math\n",
    "\n",
    "# recover the original vectors\n",
    "sol = X.value\n",
    "S, eig, S_T = np.linalg.svd(X.value)\n",
    "V = np.transpose(S * np.sqrt(eig))  \n",
    "\n",
    "# do the random hyperplane rounding\n",
    "random_hyperplane_rounding = np.random.randn(dim)\n",
    "# rearrange the cut to form an image again\n",
    "cut = np.sign(random_hyperplane_rounding @ V).reshape(int(math.sqrt(dim)), int(math.sqrt(dim)), order = 'C')\n",
    "#display the image\n",
    "plt.imshow((cut+1)*125)"
   ]
  },
  {
   "cell_type": "code",
   "execution_count": null,
   "id": "ec6bc274",
   "metadata": {},
   "outputs": [
    {
     "data": {
      "text/plain": [
       "<matplotlib.image.AxesImage at 0x7f81621a7c70>"
      ]
     },
     "execution_count": 429,
     "metadata": {},
     "output_type": "execute_result"
    },
    {
     "data": {
      "image/png": "[encoded data removed]",
      "text/plain": [
       "<Figure size 432x288 with 1 Axes>"
      ]
     },
     "metadata": {
      "needs_background": "light"
     },
     "output_type": "display_data"
    }
   ],
   "source": [
    "num_cuts = 5\n",
    "max_dot_product_rounding = np.random.randn(num_cuts, dim)\n",
    "angles = np.abs(max_dot_product_rounding @ V)\n",
    "partitions = np.argmax(angles, axis = 0).reshape(int(math.sqrt(dim)), int(math.sqrt(dim)), order = 'C')\n",
    "plt.imshow(partitions*125)"
   ]
  },
  {
   "cell_type": "code",
   "execution_count": null,
   "id": "7bbe5c18",
   "metadata": {},
   "outputs": [
    {
     "name": "stdout",
     "output_type": "stream",
     "text": [
      "  (0, 0)\t1.0\n",
      "  (0, 1)\t0.9801986733067553\n",
      "  (0, 2)\t0.9231163463866358\n",
      "  (0, 3)\t0.835270211411272\n",
      "  (0, 4)\t0.7261490370736909\n",
      "  (0, 5)\t1.0952921331247048e-12\n",
      "  (0, 6)\t2.0561157132396143e-39\n",
      "  (0, 7)\t1.5853712812890272e-39\n",
      "  (0, 8)\t1.1744719317244356e-39\n",
      "  (0, 9)\t8.359542659191245e-40\n",
      "  (0, 10)\t5.716768623285355e-40\n",
      "  (0, 20)\t0.9801986733067553\n",
      "  (0, 21)\t0.9231163463866358\n",
      "  (0, 22)\t0.835270211411272\n",
      "  (0, 23)\t0.7261490370736909\n",
      "  (0, 24)\t1.0952921331247048e-12\n",
      "  (0, 25)\t2.347348336433542e-68\n",
      "  (0, 26)\t9.42745989004109e-72\n",
      "  (0, 27)\t6.984034061288425e-72\n",
      "  (0, 28)\t4.971028177988304e-72\n",
      "  (0, 29)\t3.399494335033427e-72\n",
      "  (0, 30)\t2.2336269418130425e-72\n",
      "  (0, 40)\t0.9231163463866358\n",
      "  (0, 41)\t0.835270211411272\n",
      "  (0, 42)\t0.7261490370736909\n",
      "  :\t:\n",
      "  (399, 357)\t6.212831603920532e-19\n",
      "  (399, 358)\t0.835270211411272\n",
      "  (399, 359)\t0.9231163463866358\n",
      "  (399, 369)\t3.7356518143175023e-240\n",
      "  (399, 370)\t1.4340275083114333e-182\n",
      "  (399, 371)\t2.324728045506799e-248\n",
      "  (399, 372)\t3.2734608316359222e-245\n",
      "  (399, 373)\t4.4187099348386165e-245\n",
      "  (399, 374)\t2.5719601131497382e-143\n",
      "  (399, 375)\t1.7007028428261655e-71\n",
      "  (399, 376)\t2.4539296358669542e-61\n",
      "  (399, 377)\t1.1459985980052474e-15\n",
      "  (399, 378)\t0.9231163463866358\n",
      "  (399, 379)\t0.9801986733067553\n",
      "  (399, 389)\t1.7437563402686082e-71\n",
      "  (399, 390)\t1.989285970650565e-62\n",
      "  (399, 391)\t7.721836007306754e-77\n",
      "  (399, 392)\t2.4585278073556964e-83\n",
      "  (399, 393)\t3.188538682264004e-83\n",
      "  (399, 394)\t9.173298081769968e-74\n",
      "  (399, 395)\t2.4539296358669542e-61\n",
      "  (399, 396)\t0.015298507566725518\n",
      "  (399, 397)\t0.7189237334319262\n",
      "  (399, 398)\t0.9801986733067553\n",
      "  (399, 399)\t1.0\n"
     ]
    },
    {
     "ename": "TypeError",
     "evalue": "len() of unsized object",
     "output_type": "error",
     "traceback": [
      "\u001b[0;31m---------------------------------------------------------------------------\u001b[0m",
      "\u001b[0;31mTypeError\u001b[0m                                 Traceback (most recent call last)",
      "\u001b[0;32m/var/folders/y6/dcvw5tyn609_4w5cdgrwktw00000gp/T/ipykernel_66085/941249422.py\u001b[0m in \u001b[0;36m<module>\u001b[0;34m\u001b[0m\n\u001b[1;32m     38\u001b[0m \u001b[0mprint\u001b[0m\u001b[0;34m(\u001b[0m\u001b[0mnp\u001b[0m\u001b[0;34m.\u001b[0m\u001b[0msum\u001b[0m\u001b[0;34m(\u001b[0m\u001b[0mweights\u001b[0m\u001b[0;34m)\u001b[0m\u001b[0;34m)\u001b[0m\u001b[0;34m\u001b[0m\u001b[0;34m\u001b[0m\u001b[0m\n\u001b[1;32m     39\u001b[0m \u001b[0mk\u001b[0m \u001b[0;34m=\u001b[0m \u001b[0;36m2\u001b[0m\u001b[0;34m\u001b[0m\u001b[0;34m\u001b[0m\u001b[0m\n\u001b[0;32m---> 40\u001b[0;31m \u001b[0mvertices\u001b[0m \u001b[0;34m=\u001b[0m \u001b[0mlen\u001b[0m\u001b[0;34m(\u001b[0m\u001b[0mweights\u001b[0m\u001b[0;34m)\u001b[0m\u001b[0;34m\u001b[0m\u001b[0;34m\u001b[0m\u001b[0m\n\u001b[0m\u001b[1;32m     41\u001b[0m \u001b[0mgroups\u001b[0m \u001b[0;34m=\u001b[0m \u001b[0mnp\u001b[0m\u001b[0;34m.\u001b[0m\u001b[0marange\u001b[0m\u001b[0;34m(\u001b[0m\u001b[0;36m0\u001b[0m\u001b[0;34m,\u001b[0m\u001b[0mlen\u001b[0m\u001b[0;34m(\u001b[0m\u001b[0mweights\u001b[0m\u001b[0;34m)\u001b[0m\u001b[0;34m,\u001b[0m\u001b[0;36m1\u001b[0m\u001b[0;34m)\u001b[0m\u001b[0;34m\u001b[0m\u001b[0;34m\u001b[0m\u001b[0m\n\u001b[1;32m     42\u001b[0m \u001b[0;34m\u001b[0m\u001b[0m\n",
      "\u001b[0;31mTypeError\u001b[0m: len() of unsized object"
     ]
    }
   ],
   "source": [
    "weights = np.array(weights)\n",
    "def select_random_edge(weights):\n",
    "    weights_prob = weights/np.sum(weights)\n",
    "    val = np.random.choice(weights.flatten(), p = weights_prob.flatten())\n",
    "    result = np.where(weights == val)\n",
    "    ls = list(zip(result[0], result[1]))\n",
    "    coord = ls[np.random.randint(len(ls))]\n",
    "    return coord\n",
    "\n",
    "def contract_edge(weights, p1, p2):\n",
    "    \n",
    "    new_weights = weights\n",
    "    \n",
    "    if p1 == p2:\n",
    "        print(\"ERROR\")\n",
    "        return weights\n",
    "    \n",
    "    #shift weight\n",
    "    for i in range(len(weights)):\n",
    "        #move weight ending at p2\n",
    "        new_weights[i][p1] += weights[i][p2]\n",
    "        new_weights[i][p2] = 0\n",
    "\n",
    "        #move weight starting at p2\n",
    "        new_weights[p1][i] += weights[p2][i]\n",
    "        new_weights[p2][i] = 0\n",
    "    \n",
    "    #weights = np.delete(weights, p2, axis=0)\n",
    "    #weights = np.delete(weights, p2, axis=1)\n",
    "    \n",
    "    #remove self loops\n",
    "    for i in range(len(weights)):\n",
    "        new_weights[i][i] = 0\n",
    "    \n",
    "    return new_weights\n",
    "    \n",
    "\n",
    "print(np.sum(weights))\n",
    "k = 2\n",
    "vertices = len(weights)\n",
    "groups = np.arange(0,len(weights),1)\n",
    "\n",
    "num_steps = 0\n",
    "\n",
    "while num_steps < vertices - k:\n",
    "    i, j = select_random_edge(weights)\n",
    "    groups[j] = i\n",
    "    weights = contract_edge(weights, i, j)\n",
    "    num_steps += 1\n",
    "\n",
    "print(np.sum(weights))"
   ]
  },
  {
   "cell_type": "code",
   "execution_count": null,
   "id": "179a6431",
   "metadata": {},
   "outputs": [
    {
     "name": "stdout",
     "output_type": "stream",
     "text": [
      "[114 255  20  20   0 250 114  55  92 124 252   8  49   7  44   7 220 279\n",
      " 260  69   0   5   0  63  21   4  96  88 104 130  47 287  48 260  92 260\n",
      "  31  26 104  57 380  31  20   5  66 301 124  43  26 236  48  27  29  90\n",
      " 260 132   8  35 113 112 180  24  20 296  24 243 210 209 104 265  28 125\n",
      "  51  54  33  69 196  56 217 266  44 359 117   0   4  43  81  43 264   9\n",
      " 229 109  81  34 156  56 124 245 113  95 112  59 100  21  21 103 235 180\n",
      "   4 106  69 104  52  56  23 125 191  36 132  18  41 120  80  82  21 149\n",
      " 286 107 124 126 124  68 166  72  76  98  79  98 234  78  20  49  63  17\n",
      " 206   7 343  49  90  37  43 251 225  34  91  69 334 322 113  59 260 141\n",
      " 200  21 146 144 234  40  44  83 252  71 116   7 134  99  94 115 338 116\n",
      " 106 398 221 206  62 280   6 185   7 360 167 225  96 146  76  83 149 362\n",
      " 398 199 147 280 260 262 105 148  88 247 210   4 252  31 216 216 340 281\n",
      " 235 388 218 219 360  44 130 240 262  14  69 250 253 247 252 214  33 307\n",
      " 232  29  19 238 322  78 214 268 279 292 124 240  21 252 210 281 126  37\n",
      " 117  63 320 307 237 215 238 235 215 304 201 180  40 195 258 265 243 220\n",
      " 320 292  97 258 159 356 355 336 295 283 146 268 396  97 283 306 225  49\n",
      " 269 272 396 330  17 243 278 275   7 356 357 360 341  79 238 280 361  63\n",
      " 305 198 313 353 390 367 373 197 115 195 357 396 116 295 301 380 269 307\n",
      " 238 344 291 369 370 349 398 327 330 373 251 316 377 215 243  58 320 343\n",
      " 300  40 291 350 389 386 364 330 365 389 396 389 255 112 114 243 139  59\n",
      "   1 380 218 389 368 330 389 310 353 353 386 389 388 332 346 313 396 316\n",
      "   1 335 235 398 366 368 350 369 389 350 396 365 383 309 365 374 389 330\n",
      " 313 352 139 377]\n",
      "[218. 218. 218. 218. 218. 218. 218. 218. 218. 218. 218. 218. 218. 218.\n",
      " 218. 218. 218. 218. 218. 218. 218. 218. 218. 218. 218. 218. 218. 218.\n",
      " 218. 218. 218. 218. 218. 218. 218. 218. 218. 218. 218. 218. 218. 218.\n",
      " 218. 218. 218. 218. 218. 218. 218. 218. 218. 218. 218. 218. 218. 218.\n",
      " 218. 218. 218. 218. 218. 218. 218. 218. 218. 218. 218. 218. 218. 218.\n",
      " 218. 218. 218. 218. 218. 218. 218. 218. 218. 218. 218. 218. 218. 218.\n",
      " 218. 218. 218. 218. 218. 218. 218. 218. 218. 218. 218. 218. 218. 218.\n",
      " 218. 218. 218. 218. 218. 218. 218. 218. 218. 218. 218. 218. 218. 218.\n",
      " 218. 218. 218. 218. 218. 218. 218. 218. 218. 218. 218. 218. 218. 218.\n",
      " 218. 218. 218. 218. 218. 218. 218. 218. 218. 218. 218. 218. 218. 218.\n",
      " 218. 218. 218. 218. 218. 218. 218. 218. 218. 218. 218. 218. 218. 218.\n",
      " 218. 218. 218. 218. 218. 218. 218. 218. 218. 218. 218. 218. 218. 218.\n",
      " 218. 218. 218. 218. 218. 218. 218. 218. 218. 218. 218. 218. 218. 218.\n",
      " 218. 218. 218. 218. 218. 218. 218. 218. 218. 218. 218. 218. 218. 218.\n",
      " 218. 218. 218. 199. 218. 218. 218. 218. 218. 218. 218. 218. 218. 218.\n",
      " 218. 218. 218. 218. 218. 218. 218. 218. 218. 219. 218. 218. 218. 218.\n",
      " 218. 218. 218. 218. 218. 218. 218. 218. 218. 218. 218. 218. 218. 218.\n",
      " 218. 218. 218. 218. 218. 218. 218. 218. 218. 218. 218. 218. 218. 218.\n",
      " 218. 218. 218. 218. 218. 218. 218. 218. 218. 218. 218. 218. 218. 218.\n",
      " 218. 218. 218. 218. 218. 218. 218. 218. 218. 218. 218. 218. 218. 218.\n",
      " 218. 218. 218. 218. 218. 218. 218. 218. 218. 218. 218. 218. 218. 218.\n",
      " 218. 218. 218. 218. 218. 218. 218. 218. 218. 218. 218. 218. 218. 218.\n",
      " 218. 218. 218. 218. 218. 218. 218. 218. 218. 218. 218. 218. 218. 218.\n",
      " 218. 218. 218. 218. 218. 218. 218. 218. 218. 218. 218. 218. 218. 218.\n",
      " 218. 218. 218. 218. 218. 218. 218. 218. 218. 218. 218. 218. 218. 218.\n",
      " 218. 218. 218. 218. 218. 218. 218. 218. 218. 218. 218. 218. 218. 218.\n",
      " 218. 218. 218. 218. 218. 218. 218. 218. 218. 218. 218. 218. 218. 218.\n",
      " 218. 218. 218. 218. 218. 218. 218. 218. 218. 218. 218. 218. 218. 218.\n",
      " 218. 218. 218. 218. 218. 218. 218. 218.]\n",
      "199\n",
      "218\n",
      "219\n"
     ]
    }
   ],
   "source": [
    "def set_to_groups(groups):\n",
    "    groups_temp = np.zeros(len(groups))\n",
    "    for i in range(len(groups)):\n",
    "        ind = i\n",
    "        val = groups[ind]\n",
    "        while ind != val:\n",
    "            ind = val\n",
    "            val = groups[ind]\n",
    "        groups_temp[i] = val\n",
    "    return groups_temp\n",
    "\n",
    "print(groups)    \n",
    "res = set_to_groups(groups)\n",
    "print(res)\n",
    "\n",
    "for i in range(len(groups)):\n",
    "    if i == groups[i]:\n",
    "        print(i)"
   ]
  }
 ],
 "metadata": {
  "kernelspec": {
   "display_name": "Python 3 (ipykernel)",
   "language": "python",
   "name": "python3"
  },
  "language_info": {
   "codemirror_mode": {
    "name": "ipython",
    "version": 3
   },
   "file_extension": ".py",
   "mimetype": "text/x-python",
   "name": "python",
   "nbconvert_exporter": "python",
   "pygments_lexer": "ipython3",
   "version": "3.9.12"
  },
  "vscode": {
   "interpreter": {
    "hash": "397704579725e15f5c7cb49fe5f0341eb7531c82d19f2c29d197e8b64ab5776b"
   }
  }
 },
 "nbformat": 4,
 "nbformat_minor": 5
}
