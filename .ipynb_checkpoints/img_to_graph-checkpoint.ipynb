{
 "cells": [
  {
   "cell_type": "code",
   "execution_count": 1,
   "id": "01bf814e",
   "metadata": {},
   "outputs": [],
   "source": [
    "import numpy as np\n",
    "import matplotlib.pyplot as plt\n",
    "from PIL import Image, ImageOps"
   ]
  },
  {
   "cell_type": "code",
   "execution_count": 52,
   "id": "911c5c23",
   "metadata": {},
   "outputs": [
    {
     "data": {
      "text/plain": [
       "<matplotlib.image.AxesImage at 0x7fbd40c01370>"
      ]
     },
     "execution_count": 52,
     "metadata": {},
     "output_type": "execute_result"
    },
    {
     "data": {
      "image/png": "[encoded data removed]",
      "text/plain": [
       "<Figure size 432x288 with 1 Axes>"
      ]
     },
     "metadata": {
      "needs_background": "light"
     },
     "output_type": "display_data"
    }
   ],
   "source": [
    "img = Image.fromarray(np.array(Image.open('desert.jpg')))\n",
    "img = img.resize((100,100))\n",
    "img_grayscale = np.asarray(ImageOps.grayscale(img))\n",
    "img_grayscale = img_grayscale[30:50,25:45]\n",
    "[height, width] = img_grayscale.shape\n",
    "plt.imshow(img_grayscale,  cmap='gray', vmin=0, vmax=255)"
   ]
  },
  {
   "cell_type": "code",
   "execution_count": 53,
   "id": "3f717b3a",
   "metadata": {},
   "outputs": [
    {
     "data": {
      "text/plain": [
       "(400, 400)"
      ]
     },
     "execution_count": 53,
     "metadata": {},
     "output_type": "execute_result"
    }
   ],
   "source": [
    "dim = img_grayscale.shape[0] * img_grayscale.shape[1]\n",
    "weights = np.zeros([dim, dim])\n",
    "weights.shape"
   ]
  },
  {
   "cell_type": "code",
   "execution_count": 54,
   "id": "d6e8addd",
   "metadata": {
    "scrolled": false
   },
   "outputs": [
    {
     "name": "stderr",
     "output_type": "stream",
     "text": [
      "/var/folders/vd/ry6r85ts031_jzpc4tkzzbq40000gn/T/ipykernel_69136/2112187857.py:16: RuntimeWarning: overflow encountered in ubyte_scalars\n",
      "  intensity_exp = ((img_grayscale[j_row, j_col] - img_grayscale[i_row, i_col])**2)/sigma_squared_i\n"
     ]
    }
   ],
   "source": [
    "DIST_PARAM = 10\n",
    "sigma_squared_i = 400\n",
    "sigma_squared_x = 50\n",
    "\n",
    "for i in range(weights.shape[0]):\n",
    "    i_row, i_col = i // img_grayscale.shape[0], i % img_grayscale.shape[1]\n",
    "    for row_offset in range(-min(DIST_PARAM, i_row), min(DIST_PARAM + 1, img_grayscale.shape[0] - i_row)):\n",
    "        j_row = i_row + row_offset\n",
    "        for col_offset in range(-min(DIST_PARAM, i_col), min(DIST_PARAM + 1, img_grayscale.shape[1] - i_col)):\n",
    "            j_col = i_col + col_offset\n",
    "            dist = abs(row_offset) + abs(col_offset)\n",
    "            if dist > 2*DIST_PARAM:\n",
    "                print(\"ERROR\")\n",
    "                print(dist)\n",
    "            j = j_row * img_grayscale.shape[1] + j_col\n",
    "            intensity_exp = ((img_grayscale[j_row, j_col] - img_grayscale[i_row, i_col])**2)/sigma_squared_i\n",
    "            distance_exp = dist**2/sigma_squared_x\n",
    "            weights[i][j] = np.exp(-intensity_exp - distance_exp)"
   ]
  },
  {
   "cell_type": "code",
   "execution_count": 55,
   "id": "f7f8b4c8",
   "metadata": {},
   "outputs": [
    {
     "data": {
      "text/plain": [
       "(400, 400)"
      ]
     },
     "execution_count": 55,
     "metadata": {},
     "output_type": "execute_result"
    }
   ],
   "source": [
    "weights.shape"
   ]
  },
  {
   "cell_type": "code",
   "execution_count": null,
   "id": "ecc21a33",
   "metadata": {},
   "outputs": [],
   "source": [
    "import cvxpy as cvx\n",
    "\n",
    "X = cvx.Variable((dim, dim), PSD=True)\n",
    "obj = cvx.sum(cvx.multiply(weights, X))\n",
    "constr = [cvx.diag(X) == 1, cvx.sum(X) <= 0.15*dim*dim]\n",
    "problem = cvx.Problem(cvx.Maximize(obj), constraints=constr)\n",
    "problem.solve(solver=cvx.SCS, verbose=True)"
   ]
  },
  {
   "cell_type": "code",
   "execution_count": 185,
   "id": "f2374e2d",
   "metadata": {},
   "outputs": [
    {
     "data": {
      "text/plain": [
       "<matplotlib.image.AxesImage at 0x7f81ff4bcaf0>"
      ]
     },
     "execution_count": 185,
     "metadata": {},
     "output_type": "execute_result"
    },
    {
     "data": {
      "image/png": "[encoded data removed]",
      "text/plain": [
       "<Figure size 432x288 with 1 Axes>"
      ]
     },
     "metadata": {
      "needs_background": "light"
     },
     "output_type": "display_data"
    }
   ],
   "source": [
    "import math\n",
    "\n",
    "# recover the original vectors\n",
    "sol = X.value\n",
    "S, eig, S_T = np.linalg.svd(X.value)\n",
    "V = np.transpose(S * np.sqrt(eig))  \n",
    "\n",
    "# do the random hyperplane rounding\n",
    "random_hyperplane_rounding = np.random.randn(dim)\n",
    "# rearrange the cut to form an image again\n",
    "cut = np.sign(random_hyperplane_rounding @ V).reshape(int(math.sqrt(dim)), int(math.sqrt(dim)), order = 'C')\n",
    "#display the image\n",
    "plt.imshow((cut+1)*125)"
   ]
  },
  {
   "cell_type": "code",
   "execution_count": 56,
   "id": "7bbe5c18",
   "metadata": {},
   "outputs": [
    {
     "name": "stdout",
     "output_type": "stream",
     "text": [
      "9065.110412342356\n",
      "3.3473472771107704\n"
     ]
    }
   ],
   "source": [
    "def select_random_edge(weights):\n",
    "    weights_prob = weights/np.sum(weights)\n",
    "    val = np.random.choice(weights.flatten(), p = weights_prob.flatten())\n",
    "    result = np.where(weights == val)\n",
    "    ls = list(zip(result[0], result[1]))\n",
    "    coord = ls[np.random.randint(len(ls))]\n",
    "    return coord\n",
    "\n",
    "def contract_edge(weights, p1, p2):\n",
    "    \n",
    "    new_weights = weights\n",
    "    \n",
    "    if p1 == p2:\n",
    "        print(\"ERROR\")\n",
    "        return weights\n",
    "    \n",
    "    #shift weight\n",
    "    for i in range(len(weights)):\n",
    "        #move weight ending at p2\n",
    "        new_weights[i][p1] += weights[i][p2]\n",
    "        new_weights[i][p2] = 0\n",
    "\n",
    "        #move weight starting at p2\n",
    "        new_weights[p1][i] += weights[p2][i]\n",
    "        new_weights[p2][i] = 0\n",
    "    \n",
    "    #weights = np.delete(weights, p2, axis=0)\n",
    "    #weights = np.delete(weights, p2, axis=1)\n",
    "    \n",
    "    #remove self loops\n",
    "    for i in range(len(weights)):\n",
    "        new_weights[i][i] = 0\n",
    "    \n",
    "    return new_weights\n",
    "    \n",
    "\n",
    "print(np.sum(weights))\n",
    "k = 2\n",
    "vertices = len(weights)\n",
    "groups = np.arange(0,len(weights),1)\n",
    "\n",
    "num_steps = 0\n",
    "\n",
    "while num_steps < vertices - k:\n",
    "    i, j = select_random_edge(weights)\n",
    "    groups[j] = i\n",
    "    weights = contract_edge(weights, i, j)\n",
    "    num_steps += 1\n",
    "\n",
    "print(np.sum(weights))"
   ]
  },
  {
   "cell_type": "code",
   "execution_count": 57,
   "id": "179a6431",
   "metadata": {},
   "outputs": [
    {
     "name": "stdout",
     "output_type": "stream",
     "text": [
      "[114 255  20  20   0 250 114  55  92 124 252   8  49   7  44   7 220 279\n",
      " 260  69   0   5   0  63  21   4  96  88 104 130  47 287  48 260  92 260\n",
      "  31  26 104  57 380  31  20   5  66 301 124  43  26 236  48  27  29  90\n",
      " 260 132   8  35 113 112 180  24  20 296  24 243 210 209 104 265  28 125\n",
      "  51  54  33  69 196  56 217 266  44 359 117   0   4  43  81  43 264   9\n",
      " 229 109  81  34 156  56 124 245 113  95 112  59 100  21  21 103 235 180\n",
      "   4 106  69 104  52  56  23 125 191  36 132  18  41 120  80  82  21 149\n",
      " 286 107 124 126 124  68 166  72  76  98  79  98 234  78  20  49  63  17\n",
      " 206   7 343  49  90  37  43 251 225  34  91  69 334 322 113  59 260 141\n",
      " 200  21 146 144 234  40  44  83 252  71 116   7 134  99  94 115 338 116\n",
      " 106 398 221 206  62 280   6 185   7 360 167 225  96 146  76  83 149 362\n",
      " 398 199 147 280 260 262 105 148  88 247 210   4 252  31 216 216 340 281\n",
      " 235 388 218 219 360  44 130 240 262  14  69 250 253 247 252 214  33 307\n",
      " 232  29  19 238 322  78 214 268 279 292 124 240  21 252 210 281 126  37\n",
      " 117  63 320 307 237 215 238 235 215 304 201 180  40 195 258 265 243 220\n",
      " 320 292  97 258 159 356 355 336 295 283 146 268 396  97 283 306 225  49\n",
      " 269 272 396 330  17 243 278 275   7 356 357 360 341  79 238 280 361  63\n",
      " 305 198 313 353 390 367 373 197 115 195 357 396 116 295 301 380 269 307\n",
      " 238 344 291 369 370 349 398 327 330 373 251 316 377 215 243  58 320 343\n",
      " 300  40 291 350 389 386 364 330 365 389 396 389 255 112 114 243 139  59\n",
      "   1 380 218 389 368 330 389 310 353 353 386 389 388 332 346 313 396 316\n",
      "   1 335 235 398 366 368 350 369 389 350 396 365 383 309 365 374 389 330\n",
      " 313 352 139 377]\n",
      "[218. 218. 218. 218. 218. 218. 218. 218. 218. 218. 218. 218. 218. 218.\n",
      " 218. 218. 218. 218. 218. 218. 218. 218. 218. 218. 218. 218. 218. 218.\n",
      " 218. 218. 218. 218. 218. 218. 218. 218. 218. 218. 218. 218. 218. 218.\n",
      " 218. 218. 218. 218. 218. 218. 218. 218. 218. 218. 218. 218. 218. 218.\n",
      " 218. 218. 218. 218. 218. 218. 218. 218. 218. 218. 218. 218. 218. 218.\n",
      " 218. 218. 218. 218. 218. 218. 218. 218. 218. 218. 218. 218. 218. 218.\n",
      " 218. 218. 218. 218. 218. 218. 218. 218. 218. 218. 218. 218. 218. 218.\n",
      " 218. 218. 218. 218. 218. 218. 218. 218. 218. 218. 218. 218. 218. 218.\n",
      " 218. 218. 218. 218. 218. 218. 218. 218. 218. 218. 218. 218. 218. 218.\n",
      " 218. 218. 218. 218. 218. 218. 218. 218. 218. 218. 218. 218. 218. 218.\n",
      " 218. 218. 218. 218. 218. 218. 218. 218. 218. 218. 218. 218. 218. 218.\n",
      " 218. 218. 218. 218. 218. 218. 218. 218. 218. 218. 218. 218. 218. 218.\n",
      " 218. 218. 218. 218. 218. 218. 218. 218. 218. 218. 218. 218. 218. 218.\n",
      " 218. 218. 218. 218. 218. 218. 218. 218. 218. 218. 218. 218. 218. 218.\n",
      " 218. 218. 218. 199. 218. 218. 218. 218. 218. 218. 218. 218. 218. 218.\n",
      " 218. 218. 218. 218. 218. 218. 218. 218. 218. 219. 218. 218. 218. 218.\n",
      " 218. 218. 218. 218. 218. 218. 218. 218. 218. 218. 218. 218. 218. 218.\n",
      " 218. 218. 218. 218. 218. 218. 218. 218. 218. 218. 218. 218. 218. 218.\n",
      " 218. 218. 218. 218. 218. 218. 218. 218. 218. 218. 218. 218. 218. 218.\n",
      " 218. 218. 218. 218. 218. 218. 218. 218. 218. 218. 218. 218. 218. 218.\n",
      " 218. 218. 218. 218. 218. 218. 218. 218. 218. 218. 218. 218. 218. 218.\n",
      " 218. 218. 218. 218. 218. 218. 218. 218. 218. 218. 218. 218. 218. 218.\n",
      " 218. 218. 218. 218. 218. 218. 218. 218. 218. 218. 218. 218. 218. 218.\n",
      " 218. 218. 218. 218. 218. 218. 218. 218. 218. 218. 218. 218. 218. 218.\n",
      " 218. 218. 218. 218. 218. 218. 218. 218. 218. 218. 218. 218. 218. 218.\n",
      " 218. 218. 218. 218. 218. 218. 218. 218. 218. 218. 218. 218. 218. 218.\n",
      " 218. 218. 218. 218. 218. 218. 218. 218. 218. 218. 218. 218. 218. 218.\n",
      " 218. 218. 218. 218. 218. 218. 218. 218. 218. 218. 218. 218. 218. 218.\n",
      " 218. 218. 218. 218. 218. 218. 218. 218.]\n",
      "199\n",
      "218\n",
      "219\n"
     ]
    }
   ],
   "source": [
    "def set_to_groups(groups):\n",
    "    groups_temp = np.zeros(len(groups))\n",
    "    for i in range(len(groups)):\n",
    "        ind = i\n",
    "        val = groups[ind]\n",
    "        while ind != val:\n",
    "            ind = val\n",
    "            val = groups[ind]\n",
    "        groups_temp[i] = val\n",
    "    return groups_temp\n",
    "\n",
    "print(groups)    \n",
    "res = set_to_groups(groups)\n",
    "print(res)\n",
    "\n",
    "for i in range(len(groups)):\n",
    "    if i == groups[i]:\n",
    "        print(i)"
   ]
  }
 ],
 "metadata": {
  "kernelspec": {
   "display_name": "Python 3 (ipykernel)",
   "language": "python",
   "name": "python3"
  },
  "language_info": {
   "codemirror_mode": {
    "name": "ipython",
    "version": 3
   },
   "file_extension": ".py",
   "mimetype": "text/x-python",
   "name": "python",
   "nbconvert_exporter": "python",
   "pygments_lexer": "ipython3",
   "version": "3.9.12"
  },
  "vscode": {
   "interpreter": {
    "hash": "397704579725e15f5c7cb49fe5f0341eb7531c82d19f2c29d197e8b64ab5776b"
   }
  }
 },
 "nbformat": 4,
 "nbformat_minor": 5
}
